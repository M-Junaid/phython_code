{
 "cells": [
  {
   "cell_type": "code",
   "execution_count": 1,
   "metadata": {},
   "outputs": [
    {
     "data": {
      "text/plain": [
       "{'brand': 'ford', 'model': 'Mustang', 'year': 1964}"
      ]
     },
     "execution_count": 1,
     "metadata": {},
     "output_type": "execute_result"
    }
   ],
   "source": [
    "thisdict={\n",
    "    \"brand\":\"ford\",\n",
    "    \"model\":\"Mustang\",\n",
    "    \"year\":1964\n",
    "}\n",
    "thisdict"
   ]
  },
  {
   "cell_type": "code",
   "execution_count": 3,
   "metadata": {},
   "outputs": [
    {
     "data": {
      "text/plain": [
       "'ford'"
      ]
     },
     "execution_count": 3,
     "metadata": {},
     "output_type": "execute_result"
    }
   ],
   "source": [
    "# Print the \"brand\" value of the dictionary:\n",
    "thisdict= {\n",
    "    \"brand\":\"ford\",\n",
    "    \"model\":\"mustang\",\n",
    "    \"year\":1964\n",
    "}\n",
    "thisdict[\"brand\"]"
   ]
  },
  {
   "cell_type": "code",
   "execution_count": 4,
   "metadata": {},
   "outputs": [
    {
     "name": "stdout",
     "output_type": "stream",
     "text": [
      "{'brand': 'Ford', 'model': 'Mustang', 'year': 2020}\n"
     ]
    }
   ],
   "source": [
    "# Duplicate values will overwrite existing values:\n",
    "\n",
    "thisdict = {\n",
    "    \"brand\": \"Ford\",\n",
    "    \"model\": \"Mustang\",\n",
    "    \"year\": 1964,\n",
    "    \"year\": 2020\n",
    "}\n",
    "print(thisdict)\n"
   ]
  },
  {
   "cell_type": "code",
   "execution_count": 5,
   "metadata": {},
   "outputs": [
    {
     "name": "stdout",
     "output_type": "stream",
     "text": [
      "3\n"
     ]
    }
   ],
   "source": [
    "# Print the number of items in the dictionary:\n",
    "\n",
    "print(len(thisdict))\n"
   ]
  },
  {
   "cell_type": "code",
   "execution_count": 7,
   "metadata": {},
   "outputs": [
    {
     "data": {
      "text/plain": [
       "{'brand': 'Ford',\n",
       " 'electric': False,\n",
       " 'year': 1964,\n",
       " 'colors': ['red', 'white', 'blue']}"
      ]
     },
     "execution_count": 7,
     "metadata": {},
     "output_type": "execute_result"
    }
   ],
   "source": [
    "# String, int, boolean, and list data types:\n",
    "\n",
    "thisdict = {\n",
    "    \"brand\": \"Ford\",\n",
    "    \"electric\": False,\n",
    "    \"year\": 1964,\n",
    "    \"colors\": [\"red\", \"white\", \"blue\"]\n",
    "}\n",
    "thisdict"
   ]
  },
  {
   "cell_type": "code",
   "execution_count": 8,
   "metadata": {},
   "outputs": [
    {
     "data": {
      "text/plain": [
       "dict"
      ]
     },
     "execution_count": 8,
     "metadata": {},
     "output_type": "execute_result"
    }
   ],
   "source": [
    "type(thisdict)"
   ]
  },
  {
   "attachments": {},
   "cell_type": "markdown",
   "metadata": {},
   "source": [
    "The dict() Constructor\n",
    "It is also possible to use the dict() constructor to make a dictionary."
   ]
  },
  {
   "cell_type": "code",
   "execution_count": 9,
   "metadata": {},
   "outputs": [
    {
     "name": "stdout",
     "output_type": "stream",
     "text": [
      "{'name': 'John', 'age': 36, 'country': 'Norway'}\n"
     ]
    }
   ],
   "source": [
    "# Using the dict() method to make a dictionary:\n",
    "\n",
    "thisdict = dict(name=\"John\", age=36, country=\"Norway\")\n",
    "print(thisdict)\n"
   ]
  },
  {
   "attachments": {},
   "cell_type": "markdown",
   "metadata": {},
   "source": [
    "Python - Access Dictionary Items"
   ]
  },
  {
   "cell_type": "code",
   "execution_count": 11,
   "metadata": {},
   "outputs": [
    {
     "data": {
      "text/plain": [
       "'Mustang'"
      ]
     },
     "execution_count": 11,
     "metadata": {},
     "output_type": "execute_result"
    }
   ],
   "source": [
    "thisdict = {\n",
    "    \"brand\": \"Ford\",\n",
    "    \"model\": \"Mustang\",\n",
    "    \"year\": 1964\n",
    "}\n",
    "x = thisdict[\"model\"]\n",
    "x"
   ]
  },
  {
   "cell_type": "code",
   "execution_count": 13,
   "metadata": {},
   "outputs": [
    {
     "data": {
      "text/plain": [
       "'Mustang'"
      ]
     },
     "execution_count": 13,
     "metadata": {},
     "output_type": "execute_result"
    }
   ],
   "source": [
    "# There is also a method called get()\n",
    "x=thisdict.get(\"model\")\n",
    "x"
   ]
  },
  {
   "cell_type": "code",
   "execution_count": 15,
   "metadata": {},
   "outputs": [
    {
     "data": {
      "text/plain": [
       "dict_keys(['brand', 'model', 'year'])"
      ]
     },
     "execution_count": 15,
     "metadata": {},
     "output_type": "execute_result"
    }
   ],
   "source": [
    "x=thisdict.keys()\n",
    "x"
   ]
  },
  {
   "cell_type": "code",
   "execution_count": 16,
   "metadata": {},
   "outputs": [
    {
     "name": "stdout",
     "output_type": "stream",
     "text": [
      "dict_keys(['brand', 'model', 'year'])\n",
      "dict_keys(['brand', 'model', 'year', 'color'])\n"
     ]
    }
   ],
   "source": [
    "# Add a new item to the original dictionary, and see that the keys list gets updated as well:\n",
    "\n",
    "\n",
    "car = {\n",
    "\"brand\": \"Ford\",\n",
    "\"model\": \"Mustang\",\n",
    "\"year\": 1964\n",
    "}\n",
    "\n",
    "x = car.keys()\n",
    "\n",
    "print(x) #before the change\n",
    "\n",
    "car[\"color\"] = \"white\"\n",
    "\n",
    "print(x) #after the change"
   ]
  },
  {
   "cell_type": "code",
   "execution_count": 17,
   "metadata": {},
   "outputs": [
    {
     "data": {
      "text/plain": [
       "dict_values(['Ford', 'Mustang', 1964])"
      ]
     },
     "execution_count": 17,
     "metadata": {},
     "output_type": "execute_result"
    }
   ],
   "source": [
    "x=thisdict.values()\n",
    "x"
   ]
  },
  {
   "cell_type": "code",
   "execution_count": 18,
   "metadata": {},
   "outputs": [
    {
     "name": "stdout",
     "output_type": "stream",
     "text": [
      "dict_values(['Ford', 'Mustang', 1964])\n",
      "dict_values(['Ford', 'Mustang', 2020])\n"
     ]
    }
   ],
   "source": [
    "# Make a change in the original dictionary, and see that the values list gets updated as well:\n",
    "\n",
    "car = {\n",
    "\"brand\": \"Ford\",\n",
    "\"model\": \"Mustang\",\n",
    "\"year\": 1964\n",
    "}\n",
    "\n",
    "x = car.values()\n",
    "\n",
    "print(x) #before the change\n",
    "\n",
    "car[\"year\"] = 2020\n",
    "\n",
    "print(x) #after the change"
   ]
  },
  {
   "cell_type": "code",
   "execution_count": 19,
   "metadata": {},
   "outputs": [
    {
     "name": "stdout",
     "output_type": "stream",
     "text": [
      "dict_values(['Ford', 'Mustang', 1964])\n",
      "dict_values(['Ford', 'Mustang', 1964, 'red'])\n"
     ]
    }
   ],
   "source": [
    "# Add a new item to the original dictionary, and see that the values list gets updated as well:\n",
    "\n",
    "car = {\n",
    "    \"brand\": \"Ford\",\n",
    "    \"model\": \"Mustang\",\n",
    "    \"year\": 1964\n",
    "}\n",
    "\n",
    "x = car.values()\n",
    "\n",
    "print(x)  # before the change\n",
    "\n",
    "car[\"color\"] = \"red\"\n",
    "\n",
    "print(x)  # after the change\n"
   ]
  },
  {
   "cell_type": "code",
   "execution_count": 20,
   "metadata": {},
   "outputs": [
    {
     "data": {
      "text/plain": [
       "dict_items([('brand', 'Ford'), ('model', 'Mustang'), ('year', 1964)])"
      ]
     },
     "execution_count": 20,
     "metadata": {},
     "output_type": "execute_result"
    }
   ],
   "source": [
    "# Get a list of the key: value pairs\n",
    "\n",
    "x=thisdict.items()\n",
    "x"
   ]
  },
  {
   "cell_type": "code",
   "execution_count": 21,
   "metadata": {},
   "outputs": [
    {
     "name": "stdout",
     "output_type": "stream",
     "text": [
      "dict_items([('brand', 'Ford'), ('model', 'Mustang'), ('year', 1964)])\n",
      "dict_items([('brand', 'Ford'), ('model', 'Mustang'), ('year', 2020)])\n"
     ]
    }
   ],
   "source": [
    "# Make a change in the original dictionary, and see that the items list gets updated as well:\n",
    "\n",
    "car = {\n",
    "\"brand\": \"Ford\",\n",
    "\"model\": \"Mustang\",\n",
    "\"year\": 1964\n",
    "}\n",
    "\n",
    "x = car.items()\n",
    "\n",
    "print(x) #before the change\n",
    "\n",
    "car[\"year\"] = 2020\n",
    "\n",
    "print(x) #after the change"
   ]
  },
  {
   "cell_type": "code",
   "execution_count": 22,
   "metadata": {},
   "outputs": [
    {
     "name": "stdout",
     "output_type": "stream",
     "text": [
      "dict_items([('brand', 'Ford'), ('model', 'Mustang'), ('year', 1964)])\n",
      "dict_items([('brand', 'Ford'), ('model', 'Mustang'), ('year', 1964), ('color', 'red')])\n"
     ]
    }
   ],
   "source": [
    "# Add a new item to the original dictionary, and see that the items list gets updated as well:\n",
    "\n",
    "car = {\n",
    "\"brand\": \"Ford\",\n",
    "\"model\": \"Mustang\",\n",
    "\"year\": 1964\n",
    "}\n",
    "\n",
    "x = car.items()\n",
    "\n",
    "print(x) #before the change\n",
    "\n",
    "car[\"color\"] = \"red\"\n",
    "\n",
    "print(x) #after the change"
   ]
  },
  {
   "cell_type": "code",
   "execution_count": 23,
   "metadata": {},
   "outputs": [
    {
     "name": "stdout",
     "output_type": "stream",
     "text": [
      "Yes, 'model' is one of the keys in the thisdict dictionary\n"
     ]
    }
   ],
   "source": [
    "# Check if \"model\" is present in the dictionary:\n",
    "\n",
    "thisdict = {\n",
    "    \"brand\": \"Ford\",\n",
    "    \"model\": \"Mustang\",\n",
    "    \"year\": 1964\n",
    "}\n",
    "if \"model\" in thisdict:\n",
    "  print(\"Yes, 'model' is one of the keys in the thisdict dictionary\")\n"
   ]
  },
  {
   "cell_type": "code",
   "execution_count": 25,
   "metadata": {},
   "outputs": [
    {
     "data": {
      "text/plain": [
       "{'brand': 'Ford', 'model': 'Mustang', 'year': 2018}"
      ]
     },
     "execution_count": 25,
     "metadata": {},
     "output_type": "execute_result"
    }
   ],
   "source": [
    "# Change the \"year\" to 2018:\n",
    "\n",
    "thisdict = {\n",
    "    \"brand\": \"Ford\",\n",
    "    \"model\": \"Mustang\",\n",
    "    \"year\": 1964\n",
    "}\n",
    "thisdict[\"year\"] = 2018\n",
    "thisdict\n"
   ]
  },
  {
   "cell_type": "code",
   "execution_count": 27,
   "metadata": {},
   "outputs": [
    {
     "data": {
      "text/plain": [
       "{'brand': 'Ford', 'model': 'Mustang', 'year': 2020}"
      ]
     },
     "execution_count": 27,
     "metadata": {},
     "output_type": "execute_result"
    }
   ],
   "source": [
    "# Update the \"year\" of the car by using the update() method:\n",
    "\n",
    "thisdict = {\n",
    "    \"brand\": \"Ford\",\n",
    "    \"model\": \"Mustang\",\n",
    "    \"year\": 1964\n",
    "}\n",
    "thisdict.update({\"year\": 2020})\n",
    "thisdict"
   ]
  },
  {
   "attachments": {},
   "cell_type": "markdown",
   "metadata": {},
   "source": [
    "Removing Items"
   ]
  },
  {
   "cell_type": "code",
   "execution_count": 1,
   "metadata": {},
   "outputs": [
    {
     "data": {
      "text/plain": [
       "{'brand': 'ford', 'year': 1964}"
      ]
     },
     "execution_count": 1,
     "metadata": {},
     "output_type": "execute_result"
    }
   ],
   "source": [
    "thisdict={\"brand\":\"ford\",\n",
    "          \"model\":\"Mustang\",\n",
    "          \"year\":1964}\n",
    "thisdict.pop(\"model\")\n",
    "thisdict"
   ]
  },
  {
   "cell_type": "code",
   "execution_count": 2,
   "metadata": {},
   "outputs": [
    {
     "data": {
      "text/plain": [
       "{'brand': 'ford', 'model': 'Mustang'}"
      ]
     },
     "execution_count": 2,
     "metadata": {},
     "output_type": "execute_result"
    }
   ],
   "source": [
    "# The popitem() method removes the last inserted item (in versions before 3.7, a random item is removed instead):\n",
    "thisdict = {\n",
    "    \"brand\":\"ford\",\n",
    "    'model':\"Mustang\",\n",
    "    \"year\":1964\n",
    "}\n",
    "thisdict.popitem()\n",
    "thisdict"
   ]
  },
  {
   "cell_type": "code",
   "execution_count": 3,
   "metadata": {},
   "outputs": [
    {
     "name": "stdout",
     "output_type": "stream",
     "text": [
      "{'brand': 'Ford', 'year': 1964}\n"
     ]
    }
   ],
   "source": [
    "# The del keyword removes the item with the specified key name:\n",
    "\n",
    "\n",
    "thisdict = {\n",
    "    \"brand\": \"Ford\",\n",
    "    \"model\": \"Mustang\",\n",
    "    \"year\": 1964\n",
    "}\n",
    "del thisdict[\"model\"]\n",
    "print(thisdict)\n"
   ]
  },
  {
   "cell_type": "code",
   "execution_count": 5,
   "metadata": {},
   "outputs": [
    {
     "data": {
      "text/plain": [
       "{}"
      ]
     },
     "execution_count": 5,
     "metadata": {},
     "output_type": "execute_result"
    }
   ],
   "source": [
    "thisdict ={\n",
    "    \"brand\":\"ford\",\n",
    "    \"model\":\"Mustang\",\n",
    "    \"Year\":1964\n",
    "}\n",
    "thisdict.clear()\n",
    "thisdict"
   ]
  },
  {
   "cell_type": "code",
   "execution_count": 9,
   "metadata": {},
   "outputs": [
    {
     "name": "stdout",
     "output_type": "stream",
     "text": [
      "brand\n",
      "model\n",
      "year\n"
     ]
    }
   ],
   "source": [
    "thisdict = {\n",
    "    \"brand\": \"Ford\",\n",
    "    \"model\": \"Mustang\",\n",
    "    \"year\": 1964\n",
    "}\n",
    "for x in thisdict:\n",
    "    print(x)\n"
   ]
  },
  {
   "cell_type": "code",
   "execution_count": 10,
   "metadata": {},
   "outputs": [
    {
     "name": "stdout",
     "output_type": "stream",
     "text": [
      "Ford\n",
      "Mustang\n",
      "1964\n"
     ]
    }
   ],
   "source": [
    "thisdict = {\n",
    "    \"brand\": \"Ford\",\n",
    "    \"model\": \"Mustang\",\n",
    "    \"year\": 1964\n",
    "}\n",
    "for x in thisdict:\n",
    "    print(thisdict[x])\n",
    "\n"
   ]
  },
  {
   "attachments": {},
   "cell_type": "markdown",
   "metadata": {},
   "source": [
    "Loop Dictionaries"
   ]
  },
  {
   "cell_type": "code",
   "execution_count": 1,
   "metadata": {},
   "outputs": [
    {
     "name": "stdout",
     "output_type": "stream",
     "text": [
      "brand\n",
      "model\n",
      "year\n"
     ]
    }
   ],
   "source": [
    "# Print all key names in the dictionary, one by one:\n",
    "thisdict = thisdict = {\n",
    "    \"brand\": \"Ford\",\n",
    "    \"model\": \"Mustang\",\n",
    "    \"year\": 1964\n",
    "}\n",
    "for i in thisdict:\n",
    "    print(i)"
   ]
  },
  {
   "cell_type": "code",
   "execution_count": 4,
   "metadata": {},
   "outputs": [
    {
     "name": "stdout",
     "output_type": "stream",
     "text": [
      "Ford\n",
      "Mustang\n",
      "1964\n"
     ]
    }
   ],
   "source": [
    "thisdict = {\n",
    "    \"brand\": \"Ford\",\n",
    "    \"model\": \"Mustang\",\n",
    "    \"year\": 1964\n",
    "}\n",
    "for x in thisdict:\n",
    "    print(thisdict[x])"
   ]
  },
  {
   "cell_type": "code",
   "execution_count": 6,
   "metadata": {},
   "outputs": [
    {
     "name": "stdout",
     "output_type": "stream",
     "text": [
      "Ford\n",
      "Mustang\n",
      "1964\n"
     ]
    }
   ],
   "source": [
    "thisdict = thisdict = {\n",
    "    \"brand\": \"Ford\",\n",
    "    \"model\": \"Mustang\",\n",
    "    \"year\": 1964\n",
    "}\n",
    "for i in thisdict.values():\n",
    "    print(i)"
   ]
  },
  {
   "cell_type": "code",
   "execution_count": 7,
   "metadata": {},
   "outputs": [
    {
     "name": "stdout",
     "output_type": "stream",
     "text": [
      "brand\n",
      "model\n",
      "year\n"
     ]
    }
   ],
   "source": [
    "thisdict = thisdict = {\n",
    "    \"brand\": \"Ford\",\n",
    "    \"model\": \"Mustang\",\n",
    "    \"year\": 1964\n",
    "}\n",
    "for x in thisdict.keys():\n",
    "    print(x)"
   ]
  },
  {
   "cell_type": "code",
   "execution_count": 10,
   "metadata": {},
   "outputs": [
    {
     "name": "stdout",
     "output_type": "stream",
     "text": [
      "brand Ford\n",
      "model Mustang\n",
      "year 1964\n"
     ]
    }
   ],
   "source": [
    "thisdict = thisdict = {\n",
    "    \"brand\": \"Ford\",\n",
    "    \"model\": \"Mustang\",\n",
    "    \"year\": 1964\n",
    "}\n",
    "for x,y in thisdict.items():\n",
    "    print(x,y)"
   ]
  },
  {
   "attachments": {},
   "cell_type": "markdown",
   "metadata": {},
   "source": [
    "Copy a Dictionary"
   ]
  },
  {
   "cell_type": "code",
   "execution_count": 11,
   "metadata": {},
   "outputs": [
    {
     "data": {
      "text/plain": [
       "{'brand': 'Ford', 'model': 'Mustang', 'year': 1964}"
      ]
     },
     "execution_count": 11,
     "metadata": {},
     "output_type": "execute_result"
    }
   ],
   "source": [
    "thisdict = thisdict = {\n",
    "    \"brand\": \"Ford\",\n",
    "    \"model\": \"Mustang\",\n",
    "    \"year\": 1964\n",
    "}\n",
    "var=thisdict.copy()\n",
    "var"
   ]
  },
  {
   "cell_type": "code",
   "execution_count": 12,
   "metadata": {},
   "outputs": [
    {
     "data": {
      "text/plain": [
       "{'brand': 'Ford', 'model': 'Mustang', 'year': 1964}"
      ]
     },
     "execution_count": 12,
     "metadata": {},
     "output_type": "execute_result"
    }
   ],
   "source": [
    "thisdict = thisdict = {\n",
    "    \"brand\": \"Ford\",\n",
    "    \"model\": \"Mustang\",\n",
    "    \"year\": 1964\n",
    "}\n",
    "var1=dict(thisdict)\n",
    "var1"
   ]
  },
  {
   "attachments": {},
   "cell_type": "markdown",
   "metadata": {},
   "source": [
    "Nested Dictionaries"
   ]
  },
  {
   "cell_type": "code",
   "execution_count": 13,
   "metadata": {},
   "outputs": [
    {
     "data": {
      "text/plain": [
       "{'child1': {'name': 'Emil', 'year': 2004},\n",
       " 'child2': {'name': 'Tobias', 'year': 2007},\n",
       " 'child3': {'name': 'Linus', 'year': 2011}}"
      ]
     },
     "execution_count": 13,
     "metadata": {},
     "output_type": "execute_result"
    }
   ],
   "source": [
    "# Create a dictionary that contain three dictionaries:\n",
    "myfamily = {\n",
    "    \"child1\": {\n",
    "        \"name\": \"Emil\",\n",
    "        \"year\": 2004\n",
    "    },\n",
    "    \"child2\": {\n",
    "        \"name\": \"Tobias\",\n",
    "        \"year\": 2007\n",
    "    },\n",
    "    \"child3\": {\n",
    "        \"name\": \"Linus\",\n",
    "        \"year\": 2011\n",
    "    }\n",
    "}\n",
    "myfamily"
   ]
  },
  {
   "cell_type": "code",
   "execution_count": 15,
   "metadata": {},
   "outputs": [
    {
     "data": {
      "text/plain": [
       "{'child1': {'name': 'Emil', 'year': 2004},\n",
       " 'child2': {'name': 'Tobias', 'year': 2007},\n",
       " 'child3': {'name': 'Linus', 'year': 2011}}"
      ]
     },
     "execution_count": 15,
     "metadata": {},
     "output_type": "execute_result"
    }
   ],
   "source": [
    "child1 = {\n",
    "    \"name\": \"Emil\",\n",
    "    \"year\": 2004\n",
    "}\n",
    "child2 = {\n",
    "    \"name\": \"Tobias\",\n",
    "    \"year\": 2007\n",
    "}\n",
    "child3 = {\n",
    "    \"name\": \"Linus\",\n",
    "    \"year\": 2011\n",
    "}\n",
    "\n",
    "myfamily = {\n",
    "    \"child1\": child1,\n",
    "    \"child2\": child2,\n",
    "    \"child3\": child3\n",
    "}\n",
    "myfamily"
   ]
  },
  {
   "cell_type": "code",
   "execution_count": null,
   "metadata": {},
   "outputs": [],
   "source": []
  }
 ],
 "metadata": {
  "kernelspec": {
   "display_name": "Python 3",
   "language": "python",
   "name": "python3"
  },
  "language_info": {
   "codemirror_mode": {
    "name": "ipython",
    "version": 3
   },
   "file_extension": ".py",
   "mimetype": "text/x-python",
   "name": "python",
   "nbconvert_exporter": "python",
   "pygments_lexer": "ipython3",
   "version": "3.11.2"
  },
  "orig_nbformat": 4
 },
 "nbformat": 4,
 "nbformat_minor": 2
}
